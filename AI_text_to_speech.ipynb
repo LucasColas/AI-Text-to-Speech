{
  "nbformat": 4,
  "nbformat_minor": 0,
  "metadata": {
    "colab": {
      "name": "AI text to speech.ipynb",
      "provenance": [],
      "collapsed_sections": [],
      "authorship_tag": "ABX9TyMTlaOCCWS+uX2wcIr30zTo",
      "include_colab_link": true
    },
    "kernelspec": {
      "name": "python3",
      "display_name": "Python 3"
    },
    "language_info": {
      "name": "python"
    }
  },
  "cells": [
    {
      "cell_type": "markdown",
      "metadata": {
        "id": "view-in-github",
        "colab_type": "text"
      },
      "source": [
        "<a href=\"https://colab.research.google.com/github/LucasColas/AI-Text-to-Speech/blob/main/AI_text_to_speech.ipynb\" target=\"_parent\"><img src=\"https://colab.research.google.com/assets/colab-badge.svg\" alt=\"Open In Colab\"/></a>"
      ]
    },
    {
      "cell_type": "markdown",
      "source": [
        "# 1. Installer les dépendances"
      ],
      "metadata": {
        "id": "LCBbhmd8Bgf6"
      }
    },
    {
      "cell_type": "code",
      "execution_count": 1,
      "metadata": {
        "colab": {
          "base_uri": "https://localhost:8080/"
        },
        "id": "1AFu5RulBP-Z",
        "outputId": "c3b93454-41df-4aa1-abc4-3dfd6b2c4bd7"
      },
      "outputs": [
        {
          "output_type": "stream",
          "name": "stdout",
          "text": [
            "Collecting ibm_watson\n",
            "  Downloading ibm-watson-5.3.0.tar.gz (412 kB)\n",
            "\u001b[?25l\r\u001b[K     |▉                               | 10 kB 23.7 MB/s eta 0:00:01\r\u001b[K     |█▋                              | 20 kB 30.6 MB/s eta 0:00:01\r\u001b[K     |██▍                             | 30 kB 30.0 MB/s eta 0:00:01\r\u001b[K     |███▏                            | 40 kB 20.9 MB/s eta 0:00:01\r\u001b[K     |████                            | 51 kB 9.7 MB/s eta 0:00:01\r\u001b[K     |████▊                           | 61 kB 10.5 MB/s eta 0:00:01\r\u001b[K     |█████▋                          | 71 kB 9.5 MB/s eta 0:00:01\r\u001b[K     |██████▍                         | 81 kB 10.5 MB/s eta 0:00:01\r\u001b[K     |███████▏                        | 92 kB 10.5 MB/s eta 0:00:01\r\u001b[K     |████████                        | 102 kB 8.8 MB/s eta 0:00:01\r\u001b[K     |████████▊                       | 112 kB 8.8 MB/s eta 0:00:01\r\u001b[K     |█████████▌                      | 122 kB 8.8 MB/s eta 0:00:01\r\u001b[K     |██████████▎                     | 133 kB 8.8 MB/s eta 0:00:01\r\u001b[K     |███████████▏                    | 143 kB 8.8 MB/s eta 0:00:01\r\u001b[K     |████████████                    | 153 kB 8.8 MB/s eta 0:00:01\r\u001b[K     |████████████▊                   | 163 kB 8.8 MB/s eta 0:00:01\r\u001b[K     |█████████████▌                  | 174 kB 8.8 MB/s eta 0:00:01\r\u001b[K     |██████████████▎                 | 184 kB 8.8 MB/s eta 0:00:01\r\u001b[K     |███████████████                 | 194 kB 8.8 MB/s eta 0:00:01\r\u001b[K     |████████████████                | 204 kB 8.8 MB/s eta 0:00:01\r\u001b[K     |████████████████▊               | 215 kB 8.8 MB/s eta 0:00:01\r\u001b[K     |█████████████████▌              | 225 kB 8.8 MB/s eta 0:00:01\r\u001b[K     |██████████████████▎             | 235 kB 8.8 MB/s eta 0:00:01\r\u001b[K     |███████████████████             | 245 kB 8.8 MB/s eta 0:00:01\r\u001b[K     |███████████████████▉            | 256 kB 8.8 MB/s eta 0:00:01\r\u001b[K     |████████████████████▋           | 266 kB 8.8 MB/s eta 0:00:01\r\u001b[K     |█████████████████████▌          | 276 kB 8.8 MB/s eta 0:00:01\r\u001b[K     |██████████████████████▎         | 286 kB 8.8 MB/s eta 0:00:01\r\u001b[K     |███████████████████████         | 296 kB 8.8 MB/s eta 0:00:01\r\u001b[K     |███████████████████████▉        | 307 kB 8.8 MB/s eta 0:00:01\r\u001b[K     |████████████████████████▋       | 317 kB 8.8 MB/s eta 0:00:01\r\u001b[K     |█████████████████████████▍      | 327 kB 8.8 MB/s eta 0:00:01\r\u001b[K     |██████████████████████████▏     | 337 kB 8.8 MB/s eta 0:00:01\r\u001b[K     |███████████████████████████     | 348 kB 8.8 MB/s eta 0:00:01\r\u001b[K     |███████████████████████████▉    | 358 kB 8.8 MB/s eta 0:00:01\r\u001b[K     |████████████████████████████▋   | 368 kB 8.8 MB/s eta 0:00:01\r\u001b[K     |█████████████████████████████▍  | 378 kB 8.8 MB/s eta 0:00:01\r\u001b[K     |██████████████████████████████▏ | 389 kB 8.8 MB/s eta 0:00:01\r\u001b[K     |███████████████████████████████ | 399 kB 8.8 MB/s eta 0:00:01\r\u001b[K     |███████████████████████████████▉| 409 kB 8.8 MB/s eta 0:00:01\r\u001b[K     |████████████████████████████████| 412 kB 8.8 MB/s \n",
            "\u001b[?25h  Installing build dependencies ... \u001b[?25l\u001b[?25hdone\n",
            "  Getting requirements to build wheel ... \u001b[?25l\u001b[?25hdone\n",
            "    Preparing wheel metadata ... \u001b[?25l\u001b[?25hdone\n",
            "Collecting ibm-cloud-sdk-core==3.*,>=3.3.6\n",
            "  Downloading ibm-cloud-sdk-core-3.13.2.tar.gz (49 kB)\n",
            "\u001b[K     |████████████████████████████████| 49 kB 7.9 MB/s \n",
            "\u001b[?25hCollecting websocket-client==1.1.0\n",
            "  Downloading websocket_client-1.1.0-py2.py3-none-any.whl (68 kB)\n",
            "\u001b[K     |████████████████████████████████| 68 kB 8.2 MB/s \n",
            "\u001b[?25hRequirement already satisfied: requests<3.0,>=2.0 in /usr/local/lib/python3.7/dist-packages (from ibm_watson) (2.23.0)\n",
            "Requirement already satisfied: python-dateutil>=2.5.3 in /usr/local/lib/python3.7/dist-packages (from ibm_watson) (2.8.2)\n",
            "Collecting requests<3.0,>=2.0\n",
            "  Downloading requests-2.27.1-py2.py3-none-any.whl (63 kB)\n",
            "\u001b[K     |████████████████████████████████| 63 kB 2.4 MB/s \n",
            "\u001b[?25hCollecting urllib3<2.0.0,>=1.26.0\n",
            "  Downloading urllib3-1.26.8-py2.py3-none-any.whl (138 kB)\n",
            "\u001b[K     |████████████████████████████████| 138 kB 74.1 MB/s \n",
            "\u001b[?25hCollecting PyJWT<3.0.0,>=2.0.1\n",
            "  Downloading PyJWT-2.3.0-py3-none-any.whl (16 kB)\n",
            "Requirement already satisfied: six>=1.5 in /usr/local/lib/python3.7/dist-packages (from python-dateutil>=2.5.3->ibm_watson) (1.15.0)\n",
            "Requirement already satisfied: charset-normalizer~=2.0.0 in /usr/local/lib/python3.7/dist-packages (from requests<3.0,>=2.0->ibm_watson) (2.0.9)\n",
            "Requirement already satisfied: idna<4,>=2.5 in /usr/local/lib/python3.7/dist-packages (from requests<3.0,>=2.0->ibm_watson) (2.10)\n",
            "Requirement already satisfied: certifi>=2017.4.17 in /usr/local/lib/python3.7/dist-packages (from requests<3.0,>=2.0->ibm_watson) (2021.10.8)\n",
            "Building wheels for collected packages: ibm-watson, ibm-cloud-sdk-core\n",
            "  Building wheel for ibm-watson (PEP 517) ... \u001b[?25l\u001b[?25hdone\n",
            "  Created wheel for ibm-watson: filename=ibm_watson-5.3.0-py3-none-any.whl size=408872 sha256=84266e44684b3b5ae0f2c8078e30844d4ec4c4e3e18cb94c47c97ff37d518632\n",
            "  Stored in directory: /root/.cache/pip/wheels/21/d9/82/4ce5b94730bc4f1f7b4c6384f72964b9b8f79fcc125bb8085c\n",
            "  Building wheel for ibm-cloud-sdk-core (setup.py) ... \u001b[?25l\u001b[?25hdone\n",
            "  Created wheel for ibm-cloud-sdk-core: filename=ibm_cloud_sdk_core-3.13.2-py3-none-any.whl size=83241 sha256=4e7a5429c2d48bbeff81acf2cf54316bea96bf596034e43df12f1d2827879983\n",
            "  Stored in directory: /root/.cache/pip/wheels/f0/0d/5c/0c26fcc2db712e8d270e52f7c9f6d8abe33ca79ec29438aa14\n",
            "Successfully built ibm-watson ibm-cloud-sdk-core\n",
            "Installing collected packages: urllib3, requests, PyJWT, websocket-client, ibm-cloud-sdk-core, ibm-watson\n",
            "  Attempting uninstall: urllib3\n",
            "    Found existing installation: urllib3 1.24.3\n",
            "    Uninstalling urllib3-1.24.3:\n",
            "      Successfully uninstalled urllib3-1.24.3\n",
            "  Attempting uninstall: requests\n",
            "    Found existing installation: requests 2.23.0\n",
            "    Uninstalling requests-2.23.0:\n",
            "      Successfully uninstalled requests-2.23.0\n",
            "\u001b[31mERROR: pip's dependency resolver does not currently take into account all the packages that are installed. This behaviour is the source of the following dependency conflicts.\n",
            "google-colab 1.0.0 requires requests~=2.23.0, but you have requests 2.27.1 which is incompatible.\n",
            "datascience 0.10.6 requires folium==0.2.1, but you have folium 0.8.3 which is incompatible.\u001b[0m\n",
            "Successfully installed PyJWT-2.3.0 ibm-cloud-sdk-core-3.13.2 ibm-watson-5.3.0 requests-2.27.1 urllib3-1.26.8 websocket-client-1.1.0\n"
          ]
        }
      ],
      "source": [
        "!pip install ibm_watson"
      ]
    },
    {
      "cell_type": "markdown",
      "source": [
        "# 2. Authentification\n",
        "\n",
        "On prend le service Text to Speech d'IBM : https://cloud.ibm.com/catalog/services/text-to-speech \n",
        "\n",
        "On aura dans Gestion la clé API et l'URL."
      ],
      "metadata": {
        "id": "kt1hmETKFmfJ"
      }
    },
    {
      "cell_type": "code",
      "source": [
        "url = ''\n",
        "api_key = ''"
      ],
      "metadata": {
        "id": "M3jnXHwQFp3c"
      },
      "execution_count": 2,
      "outputs": []
    },
    {
      "cell_type": "code",
      "source": [
        "from ibm_watson import TextToSpeechV1\n",
        "from ibm_cloud_sdk_core.authenticators import IAMAuthenticator"
      ],
      "metadata": {
        "id": "q1K2BYvVJnol"
      },
      "execution_count": 4,
      "outputs": []
    },
    {
      "cell_type": "code",
      "source": [
        "authenticator = IAMAuthenticator(api_key) #authentification\n",
        "tts = TextToSpeechV1(authenticator=authenticator) #instance du service\n",
        "tts.set_service_url(url)"
      ],
      "metadata": {
        "id": "d_MHp13uKSss"
      },
      "execution_count": 5,
      "outputs": []
    },
    {
      "cell_type": "markdown",
      "source": [
        "# Import "
      ],
      "metadata": {
        "id": "qKdYw4MaJlyP"
      }
    },
    {
      "cell_type": "code",
      "source": [
        ""
      ],
      "metadata": {
        "id": "G244M3O9KKZN"
      },
      "execution_count": null,
      "outputs": []
    }
  ]
}